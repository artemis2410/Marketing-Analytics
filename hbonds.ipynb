{
  "nbformat": 4,
  "nbformat_minor": 0,
  "metadata": {
    "colab": {
      "name": "hbonds.ipynb",
      "provenance": [],
      "authorship_tag": "ABX9TyPBLtRz8d7RH6pEEBw+OMep",
      "include_colab_link": true
    },
    "kernelspec": {
      "name": "python3",
      "display_name": "Python 3"
    },
    "language_info": {
      "name": "python"
    }
  },
  "cells": [
    {
      "cell_type": "markdown",
      "metadata": {
        "id": "view-in-github",
        "colab_type": "text"
      },
      "source": [
        "<a href=\"https://colab.research.google.com/github/artemis2410/Marketing-Analytics/blob/master/hbonds.ipynb\" target=\"_parent\"><img src=\"https://colab.research.google.com/assets/colab-badge.svg\" alt=\"Open In Colab\"/></a>"
      ]
    },
    {
      "cell_type": "code",
      "metadata": {
        "colab": {
          "base_uri": "https://localhost:8080/"
        },
        "id": "8ptTJDEutqt3",
        "outputId": "43249a95-fbf3-48ff-ed30-797a9355d420"
      },
      "source": [
        "pip install mdtraj"
      ],
      "execution_count": 1,
      "outputs": [
        {
          "output_type": "stream",
          "text": [
            "Collecting mdtraj\n",
            "\u001b[?25l  Downloading https://files.pythonhosted.org/packages/af/da/271e93bb98bc93ccac17bc1f31f814be4f9e7024ac19bf31af892a462030/mdtraj-1.9.5-cp37-cp37m-manylinux1_x86_64.whl (6.1MB)\n",
            "\u001b[K     |████████████████████████████████| 6.1MB 21.2MB/s \n",
            "\u001b[?25hRequirement already satisfied: pyparsing in /usr/local/lib/python3.7/dist-packages (from mdtraj) (2.4.7)\n",
            "Requirement already satisfied: astunparse in /usr/local/lib/python3.7/dist-packages (from mdtraj) (1.6.3)\n",
            "Requirement already satisfied: numpy>=1.6 in /usr/local/lib/python3.7/dist-packages (from mdtraj) (1.19.5)\n",
            "Requirement already satisfied: scipy in /usr/local/lib/python3.7/dist-packages (from mdtraj) (1.4.1)\n",
            "Requirement already satisfied: wheel<1.0,>=0.23.0 in /usr/local/lib/python3.7/dist-packages (from astunparse->mdtraj) (0.36.2)\n",
            "Requirement already satisfied: six<2.0,>=1.6.1 in /usr/local/lib/python3.7/dist-packages (from astunparse->mdtraj) (1.15.0)\n",
            "Installing collected packages: mdtraj\n",
            "Successfully installed mdtraj-1.9.5\n"
          ],
          "name": "stdout"
        }
      ]
    },
    {
      "cell_type": "code",
      "metadata": {
        "id": "VERzPpGPtsXj"
      },
      "source": [
        "import numpy as np\n",
        "import pandas as pd\n",
        "import mdtraj as md"
      ],
      "execution_count": 2,
      "outputs": []
    },
    {
      "cell_type": "code",
      "metadata": {
        "colab": {
          "base_uri": "https://localhost:8080/"
        },
        "id": "cM4_h0b_t4-u",
        "outputId": "bdf85cd6-7197-4587-d832-796de750eebd"
      },
      "source": [
        "ALA_wat=md.load('ALA_wat.pdb')\n",
        "print(ALA_wat)"
      ],
      "execution_count": 4,
      "outputs": [
        {
          "output_type": "stream",
          "text": [
            "<mdtraj.Trajectory with 1 frames, 639 atoms, 110 residues, and unitcells>\n"
          ],
          "name": "stdout"
        }
      ]
    },
    {
      "cell_type": "code",
      "metadata": {
        "colab": {
          "base_uri": "https://localhost:8080/"
        },
        "id": "rlCXwAzAu3L1",
        "outputId": "0aa54197-b648-4169-811a-42371124823e"
      },
      "source": [
        "print(ALA_wat.xyz)"
      ],
      "execution_count": 5,
      "outputs": [
        {
          "output_type": "stream",
          "text": [
            "[[[1.112  0.7    1.308 ]\n",
            "  [1.118  0.692  1.4111]\n",
            "  [1.0489 0.6279 1.2839]\n",
            "  ...\n",
            "  [1.1214 1.5509 0.1943]\n",
            "  [1.1465 1.494  0.1172]\n",
            "  [1.1035 1.6419 0.1478]]]\n"
          ],
          "name": "stdout"
        }
      ]
    },
    {
      "cell_type": "code",
      "metadata": {
        "colab": {
          "base_uri": "https://localhost:8080/"
        },
        "id": "OK8RqEu0vfTo",
        "outputId": "9ed1b6f2-d027-4313-9390-6c50b4f1bce8"
      },
      "source": [
        "ALA_wat.n_atoms"
      ],
      "execution_count": 6,
      "outputs": [
        {
          "output_type": "execute_result",
          "data": {
            "text/plain": [
              "639"
            ]
          },
          "metadata": {
            "tags": []
          },
          "execution_count": 6
        }
      ]
    },
    {
      "cell_type": "code",
      "metadata": {
        "colab": {
          "base_uri": "https://localhost:8080/"
        },
        "id": "n2wr4Ehp-2Wz",
        "outputId": "2150cdb2-0261-4118-bebf-c5850711e892"
      },
      "source": [
        "ALA_wat.n_residues"
      ],
      "execution_count": 7,
      "outputs": [
        {
          "output_type": "execute_result",
          "data": {
            "text/plain": [
              "110"
            ]
          },
          "metadata": {
            "tags": []
          },
          "execution_count": 7
        }
      ]
    },
    {
      "cell_type": "code",
      "metadata": {
        "colab": {
          "base_uri": "https://localhost:8080/"
        },
        "id": "uGeuxUyD_PQn",
        "outputId": "4d5cb923-385c-47cc-985a-442df83b514b"
      },
      "source": [
        "h_bonds=md.baker_hubbard(ALA_wat,exclude_water=False,distance_cutoff=0.35,angle_cutoff=135,periodic=True)#Distance Cut-Off -3.5A #Angle-CutOff=135\n",
        "for hbond in h_bonds:\n",
        "  print(str(ALA_wat.topology.atom(hbond[0]))+\"---------------\"+str(ALA_wat.topology.atom(hbond[2])))\n",
        "\n",
        "#Fiddling with the angles and distance cut-offs a bit\n",
        "angles=np.linspace(120,150,30)\n",
        "distances=np.linspace(0.2,0.5,30)\n",
        "\n",
        "Ang,Dis=np.meshgrid(angles,distances)\n",
        "def n_hbonds(angle,distance):\n",
        "  return md.baker_hubbard(ALA_wat,exclude_water=False,distance_cutoff=distance,angle_cutoff=angle,periodic=True).shape[0]\n",
        "\n"
      ],
      "execution_count": 8,
      "outputs": [
        {
          "output_type": "stream",
          "text": [
            "ALA1-N---------------HOH4-O\n",
            "ALA1-N---------------HOH1-O\n",
            "LEU2-N---------------HOH1-O\n",
            "ALA3-N---------------HOH1-O\n"
          ],
          "name": "stdout"
        }
      ]
    },
    {
      "cell_type": "code",
      "metadata": {
        "id": "i7EL2ATpAweY"
      },
      "source": [
        "Z=np.zeros((30,30))\n",
        "for i in range(30):\n",
        "  for j in range(30):\n",
        "    Z[i][j]=n_hbonds(Ang[i][j],Dis[i][j])\n"
      ],
      "execution_count": 9,
      "outputs": []
    },
    {
      "cell_type": "code",
      "metadata": {
        "id": "1JX9IRjTJjQD",
        "colab": {
          "base_uri": "https://localhost:8080/",
          "height": 266
        },
        "outputId": "5a2c4997-321f-4405-a63a-4f621fc45ba6"
      },
      "source": [
        "from mpl_toolkits import mplot3d\n",
        "import matplotlib.pyplot as plt\n",
        "\n",
        "fig=plt.figure()\n",
        "ax=plt.axes(projection='3d')\n",
        "ax.plot_wireframe(Ang,Dis,Z,color=\"black\")\n",
        "ax.set_title(\"Number of Hydrogen Bonds vs Angle and Distance Cut-offs\")\n",
        "ax.set_xlabel(\"Angle Cut Offs\")\n",
        "ax.set_ylabel(\"Distance Cut Offs\")\n",
        "ax.set_zlabel(\"# Hydrogen Bonds\")\n",
        "ax.set_xlim(115,155)\n",
        "ax.set_ylim(0.17,0.55)\n",
        "\n",
        "\n"
      ],
      "execution_count": 10,
      "outputs": [
        {
          "output_type": "execute_result",
          "data": {
            "text/plain": [
              "(0.17, 0.55)"
            ]
          },
          "metadata": {
            "tags": []
          },
          "execution_count": 10
        },
        {
          "output_type": "display_data",
          "data": {
            "image/png": "[encoded data removed]",
            "text/plain": [
              "<Figure size 432x288 with 1 Axes>"
            ]
          },
          "metadata": {
            "tags": [],
            "needs_background": "light"
          }
        }
      ]
    },
    {
      "cell_type": "code",
      "metadata": {
        "colab": {
          "base_uri": "https://localhost:8080/"
        },
        "id": "4jLkajbXLiQv",
        "outputId": "6dda2365-f9db-4b73-827b-38cdd545d049"
      },
      "source": [
        "h_bonds"
      ],
      "execution_count": 72,
      "outputs": [
        {
          "output_type": "execute_result",
          "data": {
            "text/plain": [
              "array([[  0,   1, 165],\n",
              "       [  0,   3, 540],\n",
              "       [ 12,  13, 489],\n",
              "       [ 31,  32, 507]])"
            ]
          },
          "metadata": {
            "tags": []
          },
          "execution_count": 72
        }
      ]
    },
    {
      "cell_type": "code",
      "metadata": {
        "colab": {
          "base_uri": "https://localhost:8080/"
        },
        "id": "2y35mtjOThk7",
        "outputId": "d268374e-cbe0-437a-bacd-2f4bdb5620af"
      },
      "source": [
        "ALA_wat.xyz[0][0]"
      ],
      "execution_count": 82,
      "outputs": [
        {
          "output_type": "execute_result",
          "data": {
            "text/plain": [
              "array([1.112, 0.7  , 1.308], dtype=float32)"
            ]
          },
          "metadata": {
            "tags": []
          },
          "execution_count": 82
        }
      ]
    },
    {
      "cell_type": "code",
      "metadata": {
        "id": "hbzjlM8xXzst"
      },
      "source": [
        "table,Bonds=ALA_wat.top.to_dataframe()"
      ],
      "execution_count": 13,
      "outputs": []
    },
    {
      "cell_type": "code",
      "metadata": {
        "colab": {
          "base_uri": "https://localhost:8080/",
          "height": 399
        },
        "id": "9T9P4fo3AiRn",
        "outputId": "fa361fe5-584b-4f58-9ce0-a34e7dcdff68"
      },
      "source": [
        "table"
      ],
      "execution_count": 15,
      "outputs": [
        {
          "output_type": "execute_result",
          "data": {
            "text/html": [
              "<div>\n",
              "<style scoped>\n",
              "    .dataframe tbody tr th:only-of-type {\n",
              "        vertical-align: middle;\n",
              "    }\n",
              "\n",
              "    .dataframe tbody tr th {\n",
              "        vertical-align: top;\n",
              "    }\n",
              "\n",
              "    .dataframe thead th {\n",
              "        text-align: right;\n",
              "    }\n",
              "</style>\n",
              "<table border=\"1\" class=\"dataframe\">\n",
              "  <thead>\n",
              "    <tr style=\"text-align: right;\">\n",
              "      <th></th>\n",
              "      <th>serial</th>\n",
              "      <th>name</th>\n",
              "      <th>element</th>\n",
              "      <th>resSeq</th>\n",
              "      <th>resName</th>\n",
              "      <th>chainID</th>\n",
              "      <th>segmentID</th>\n",
              "    </tr>\n",
              "  </thead>\n",
              "  <tbody>\n",
              "    <tr>\n",
              "      <th>0</th>\n",
              "      <td>1</td>\n",
              "      <td>N</td>\n",
              "      <td>N</td>\n",
              "      <td>1</td>\n",
              "      <td>ALA</td>\n",
              "      <td>0</td>\n",
              "      <td></td>\n",
              "    </tr>\n",
              "    <tr>\n",
              "      <th>1</th>\n",
              "      <td>2</td>\n",
              "      <td>H</td>\n",
              "      <td>H</td>\n",
              "      <td>1</td>\n",
              "      <td>ALA</td>\n",
              "      <td>0</td>\n",
              "      <td></td>\n",
              "    </tr>\n",
              "    <tr>\n",
              "      <th>2</th>\n",
              "      <td>3</td>\n",
              "      <td>H2</td>\n",
              "      <td>H</td>\n",
              "      <td>1</td>\n",
              "      <td>ALA</td>\n",
              "      <td>0</td>\n",
              "      <td></td>\n",
              "    </tr>\n",
              "    <tr>\n",
              "      <th>3</th>\n",
              "      <td>4</td>\n",
              "      <td>H3</td>\n",
              "      <td>H</td>\n",
              "      <td>1</td>\n",
              "      <td>ALA</td>\n",
              "      <td>0</td>\n",
              "      <td></td>\n",
              "    </tr>\n",
              "    <tr>\n",
              "      <th>4</th>\n",
              "      <td>5</td>\n",
              "      <td>CA</td>\n",
              "      <td>C</td>\n",
              "      <td>1</td>\n",
              "      <td>ALA</td>\n",
              "      <td>0</td>\n",
              "      <td></td>\n",
              "    </tr>\n",
              "    <tr>\n",
              "      <th>...</th>\n",
              "      <td>...</td>\n",
              "      <td>...</td>\n",
              "      <td>...</td>\n",
              "      <td>...</td>\n",
              "      <td>...</td>\n",
              "      <td>...</td>\n",
              "      <td>...</td>\n",
              "    </tr>\n",
              "    <tr>\n",
              "      <th>634</th>\n",
              "      <td>635</td>\n",
              "      <td>H</td>\n",
              "      <td>H</td>\n",
              "      <td>2</td>\n",
              "      <td>HOH</td>\n",
              "      <td>1</td>\n",
              "      <td></td>\n",
              "    </tr>\n",
              "    <tr>\n",
              "      <th>635</th>\n",
              "      <td>636</td>\n",
              "      <td>H</td>\n",
              "      <td>H</td>\n",
              "      <td>2</td>\n",
              "      <td>HOH</td>\n",
              "      <td>1</td>\n",
              "      <td></td>\n",
              "    </tr>\n",
              "    <tr>\n",
              "      <th>636</th>\n",
              "      <td>637</td>\n",
              "      <td>O</td>\n",
              "      <td>O</td>\n",
              "      <td>2</td>\n",
              "      <td>HOH</td>\n",
              "      <td>1</td>\n",
              "      <td></td>\n",
              "    </tr>\n",
              "    <tr>\n",
              "      <th>637</th>\n",
              "      <td>638</td>\n",
              "      <td>H</td>\n",
              "      <td>H</td>\n",
              "      <td>2</td>\n",
              "      <td>HOH</td>\n",
              "      <td>1</td>\n",
              "      <td></td>\n",
              "    </tr>\n",
              "    <tr>\n",
              "      <th>638</th>\n",
              "      <td>639</td>\n",
              "      <td>H</td>\n",
              "      <td>H</td>\n",
              "      <td>2</td>\n",
              "      <td>HOH</td>\n",
              "      <td>1</td>\n",
              "      <td></td>\n",
              "    </tr>\n",
              "  </tbody>\n",
              "</table>\n",
              "<p>639 rows × 7 columns</p>\n",
              "</div>"
            ],
            "text/plain": [
              "     serial name element  resSeq resName  chainID segmentID\n",
              "0         1    N       N       1     ALA        0          \n",
              "1         2    H       H       1     ALA        0          \n",
              "2         3   H2       H       1     ALA        0          \n",
              "3         4   H3       H       1     ALA        0          \n",
              "4         5   CA       C       1     ALA        0          \n",
              "..      ...  ...     ...     ...     ...      ...       ...\n",
              "634     635    H       H       2     HOH        1          \n",
              "635     636    H       H       2     HOH        1          \n",
              "636     637    O       O       2     HOH        1          \n",
              "637     638    H       H       2     HOH        1          \n",
              "638     639    H       H       2     HOH        1          \n",
              "\n",
              "[639 rows x 7 columns]"
            ]
          },
          "metadata": {
            "tags": []
          },
          "execution_count": 15
        }
      ]
    },
    {
      "cell_type": "code",
      "metadata": {
        "colab": {
          "base_uri": "https://localhost:8080/"
        },
        "id": "85HAjlRujXvX",
        "outputId": "486bd50b-f599-480e-9eb2-beff24103291"
      },
      "source": [
        "table['resName'].unique()"
      ],
      "execution_count": 42,
      "outputs": [
        {
          "output_type": "execute_result",
          "data": {
            "text/plain": [
              "array(['ALA', 'LEU', 'HOH'], dtype=object)"
            ]
          },
          "metadata": {
            "tags": []
          },
          "execution_count": 42
        }
      ]
    },
    {
      "cell_type": "code",
      "metadata": {
        "id": "9rV-AvyGqmo_"
      },
      "source": [
        "H_BOND_T=table.iloc[h_bonds.flatten(),:]\n",
        "H_BOND_T.index=np.linspace(0,11,12)\n"
      ],
      "execution_count": 78,
      "outputs": []
    },
    {
      "cell_type": "code",
      "metadata": {
        "colab": {
          "base_uri": "https://localhost:8080/"
        },
        "id": "ZXUfczbYBBr5",
        "outputId": "5b1b9816-8230-4c9b-99ae-8bf3ad6999bf"
      },
      "source": [
        "#Compute the hydrogen bond angles\n",
        "h_bond_angles=md.compute_angles(ALA_wat,h_bonds)*180/np.pi \n",
        "h_bond_angles"
      ],
      "execution_count": 21,
      "outputs": [
        {
          "output_type": "execute_result",
          "data": {
            "text/plain": [
              "array([[157.40071, 162.6531 , 167.92317, 174.2051 ]], dtype=float32)"
            ]
          },
          "metadata": {
            "tags": []
          },
          "execution_count": 21
        }
      ]
    },
    {
      "cell_type": "code",
      "metadata": {
        "colab": {
          "base_uri": "https://localhost:8080/"
        },
        "id": "M7ab9CIFBHt0",
        "outputId": "b023c164-ec38-4726-9876-65bd6373be21"
      },
      "source": [
        "#Computing H-bond-Distances (2 distances per bond)\n",
        "pairs_1=[[h_bonds[i][0],h_bonds[i][1]] for i in range(h_bonds.shape[0])]\n",
        "pairs_2=[[h_bonds[i][1],h_bonds[i][2]] for i in range(h_bonds.shape[0])]\n",
        "pairs_1.extend(pairs_2)\n",
        "pairs=np.array(pairs_1)\n",
        "h_bond_distances=md.compute_distances(ALA_wat,pairs)\n",
        "print(h_bond_distances)\n"
      ],
      "execution_count": 19,
      "outputs": [
        {
          "output_type": "stream",
          "text": [
            "[[0.10358389 0.09608252 0.10115039 0.10824806 0.16293032 0.32382247\n",
            "  0.20058402 0.20527396]]\n"
          ],
          "name": "stdout"
        }
      ]
    },
    {
      "cell_type": "code",
      "metadata": {
        "colab": {
          "base_uri": "https://localhost:8080/",
          "height": 675
        },
        "id": "-HbBxFnWI3Hx",
        "outputId": "a895df90-9b05-496a-cfda-4048c5d36a37"
      },
      "source": [
        "# Trying to plot the molecule itself\n",
        "X_coord=[]\n",
        "Y_coord=[]\n",
        "Z_coord=[]\n",
        "for i in h_bonds.flatten():\n",
        "  \n",
        "  X_coord.append(ALA_wat.xyz[0][i][0])\n",
        "  Y_coord.append(ALA_wat.xyz[0][i][1])\n",
        "  Z_coord.append(ALA_wat.xyz[0][i][2])\n",
        "\n",
        "def cm(i):\n",
        "  \n",
        "  if (ALA_wat.top.atom(i).residue.name=='HOH'):\n",
        "    return \"blue\"\n",
        "  elif (ALA_wat.top.atom(i).residue.name=='ALA'):\n",
        "    return \"red\"\n",
        "  else:\n",
        "    return \"green\"\n",
        "\n",
        "\n",
        "color_map=[]\n",
        "for j in h_bonds.flatten():\n",
        "  color_map.append(cm(j))\n",
        "\n",
        "\n",
        "\n",
        "fig=plt.figure()\n",
        "ax1=plt.axes(projection='3d')\n",
        "ax1.scatter3D(X_coord,Y_coord,Z_coord,s=50,c=color_map,depthshade=False)\n",
        "\n",
        "\n",
        "#Note-Red-Non-HOH residue\n",
        "#Blue -HOH residue\n",
        "\n",
        "H_BOND_T['X']=X_coord;\n",
        "\n",
        "H_BOND_T['Y']=Y_coord;\n",
        "\n",
        "H_BOND_T['Z']=Z_coord;"
      ],
      "execution_count": 79,
      "outputs": [
        {
          "output_type": "stream",
          "text": [
            "/usr/local/lib/python3.7/dist-packages/ipykernel_launcher.py:35: SettingWithCopyWarning:\n",
            "\n",
            "\n",
            "A value is trying to be set on a copy of a slice from a DataFrame.\n",
            "Try using .loc[row_indexer,col_indexer] = value instead\n",
            "\n",
            "See the caveats in the documentation: https://pandas.pydata.org/pandas-docs/stable/user_guide/indexing.html#returning-a-view-versus-a-copy\n",
            "\n",
            "/usr/local/lib/python3.7/dist-packages/ipykernel_launcher.py:37: SettingWithCopyWarning:\n",
            "\n",
            "\n",
            "A value is trying to be set on a copy of a slice from a DataFrame.\n",
            "Try using .loc[row_indexer,col_indexer] = value instead\n",
            "\n",
            "See the caveats in the documentation: https://pandas.pydata.org/pandas-docs/stable/user_guide/indexing.html#returning-a-view-versus-a-copy\n",
            "\n",
            "/usr/local/lib/python3.7/dist-packages/ipykernel_launcher.py:39: SettingWithCopyWarning:\n",
            "\n",
            "\n",
            "A value is trying to be set on a copy of a slice from a DataFrame.\n",
            "Try using .loc[row_indexer,col_indexer] = value instead\n",
            "\n",
            "See the caveats in the documentation: https://pandas.pydata.org/pandas-docs/stable/user_guide/indexing.html#returning-a-view-versus-a-copy\n",
            "\n"
          ],
          "name": "stderr"
        },
        {
          "output_type": "display_data",
          "data": {
            "image/png": "[encoded data removed]",
            "text/plain": [
              "<Figure size 432x288 with 1 Axes>"
            ]
          },
          "metadata": {
            "tags": [],
            "needs_background": "light"
          }
        }
      ]
    },
    {
      "cell_type": "code",
      "metadata": {
        "colab": {
          "base_uri": "https://localhost:8080/",
          "height": 399
        },
        "id": "sMIE0cWYMl61",
        "outputId": "c3617a45-d430-43d2-8eb7-b2cc7a25fea4"
      },
      "source": [
        "H_BOND_T"
      ],
      "execution_count": 80,
      "outputs": [
        {
          "output_type": "execute_result",
          "data": {
            "text/html": [
              "<div>\n",
              "<style scoped>\n",
              "    .dataframe tbody tr th:only-of-type {\n",
              "        vertical-align: middle;\n",
              "    }\n",
              "\n",
              "    .dataframe tbody tr th {\n",
              "        vertical-align: top;\n",
              "    }\n",
              "\n",
              "    .dataframe thead th {\n",
              "        text-align: right;\n",
              "    }\n",
              "</style>\n",
              "<table border=\"1\" class=\"dataframe\">\n",
              "  <thead>\n",
              "    <tr style=\"text-align: right;\">\n",
              "      <th></th>\n",
              "      <th>serial</th>\n",
              "      <th>name</th>\n",
              "      <th>element</th>\n",
              "      <th>resSeq</th>\n",
              "      <th>resName</th>\n",
              "      <th>chainID</th>\n",
              "      <th>segmentID</th>\n",
              "      <th>X</th>\n",
              "      <th>Y</th>\n",
              "      <th>Z</th>\n",
              "    </tr>\n",
              "  </thead>\n",
              "  <tbody>\n",
              "    <tr>\n",
              "      <th>0.0</th>\n",
              "      <td>1</td>\n",
              "      <td>N</td>\n",
              "      <td>N</td>\n",
              "      <td>1</td>\n",
              "      <td>ALA</td>\n",
              "      <td>0</td>\n",
              "      <td></td>\n",
              "      <td>1.1120</td>\n",
              "      <td>0.7000</td>\n",
              "      <td>1.3080</td>\n",
              "    </tr>\n",
              "    <tr>\n",
              "      <th>1.0</th>\n",
              "      <td>2</td>\n",
              "      <td>H</td>\n",
              "      <td>H</td>\n",
              "      <td>1</td>\n",
              "      <td>ALA</td>\n",
              "      <td>0</td>\n",
              "      <td></td>\n",
              "      <td>1.1180</td>\n",
              "      <td>0.6920</td>\n",
              "      <td>1.4111</td>\n",
              "    </tr>\n",
              "    <tr>\n",
              "      <th>2.0</th>\n",
              "      <td>166</td>\n",
              "      <td>O</td>\n",
              "      <td>O</td>\n",
              "      <td>4</td>\n",
              "      <td>HOH</td>\n",
              "      <td>1</td>\n",
              "      <td></td>\n",
              "      <td>1.0717</td>\n",
              "      <td>0.6505</td>\n",
              "      <td>1.5617</td>\n",
              "    </tr>\n",
              "    <tr>\n",
              "      <th>3.0</th>\n",
              "      <td>1</td>\n",
              "      <td>N</td>\n",
              "      <td>N</td>\n",
              "      <td>1</td>\n",
              "      <td>ALA</td>\n",
              "      <td>0</td>\n",
              "      <td></td>\n",
              "      <td>1.1120</td>\n",
              "      <td>0.7000</td>\n",
              "      <td>1.3080</td>\n",
              "    </tr>\n",
              "    <tr>\n",
              "      <th>4.0</th>\n",
              "      <td>4</td>\n",
              "      <td>H3</td>\n",
              "      <td>H</td>\n",
              "      <td>1</td>\n",
              "      <td>ALA</td>\n",
              "      <td>0</td>\n",
              "      <td></td>\n",
              "      <td>1.1972</td>\n",
              "      <td>0.6809</td>\n",
              "      <td>1.2679</td>\n",
              "    </tr>\n",
              "    <tr>\n",
              "      <th>5.0</th>\n",
              "      <td>541</td>\n",
              "      <td>O</td>\n",
              "      <td>O</td>\n",
              "      <td>1</td>\n",
              "      <td>HOH</td>\n",
              "      <td>1</td>\n",
              "      <td></td>\n",
              "      <td>1.5159</td>\n",
              "      <td>0.6587</td>\n",
              "      <td>1.2150</td>\n",
              "    </tr>\n",
              "    <tr>\n",
              "      <th>6.0</th>\n",
              "      <td>13</td>\n",
              "      <td>N</td>\n",
              "      <td>N</td>\n",
              "      <td>2</td>\n",
              "      <td>LEU</td>\n",
              "      <td>0</td>\n",
              "      <td></td>\n",
              "      <td>0.9410</td>\n",
              "      <td>0.9470</td>\n",
              "      <td>1.0930</td>\n",
              "    </tr>\n",
              "    <tr>\n",
              "      <th>7.0</th>\n",
              "      <td>14</td>\n",
              "      <td>H</td>\n",
              "      <td>H</td>\n",
              "      <td>2</td>\n",
              "      <td>LEU</td>\n",
              "      <td>0</td>\n",
              "      <td></td>\n",
              "      <td>0.8860</td>\n",
              "      <td>0.9990</td>\n",
              "      <td>1.1601</td>\n",
              "    </tr>\n",
              "    <tr>\n",
              "      <th>8.0</th>\n",
              "      <td>490</td>\n",
              "      <td>O</td>\n",
              "      <td>O</td>\n",
              "      <td>1</td>\n",
              "      <td>HOH</td>\n",
              "      <td>1</td>\n",
              "      <td></td>\n",
              "      <td>0.7875</td>\n",
              "      <td>1.0708</td>\n",
              "      <td>1.3194</td>\n",
              "    </tr>\n",
              "    <tr>\n",
              "      <th>9.0</th>\n",
              "      <td>32</td>\n",
              "      <td>N</td>\n",
              "      <td>N</td>\n",
              "      <td>3</td>\n",
              "      <td>ALA</td>\n",
              "      <td>0</td>\n",
              "      <td></td>\n",
              "      <td>1.1000</td>\n",
              "      <td>1.1030</td>\n",
              "      <td>0.8020</td>\n",
              "    </tr>\n",
              "    <tr>\n",
              "      <th>10.0</th>\n",
              "      <td>33</td>\n",
              "      <td>H</td>\n",
              "      <td>H</td>\n",
              "      <td>3</td>\n",
              "      <td>ALA</td>\n",
              "      <td>0</td>\n",
              "      <td></td>\n",
              "      <td>1.0451</td>\n",
              "      <td>1.0401</td>\n",
              "      <td>0.7331</td>\n",
              "    </tr>\n",
              "    <tr>\n",
              "      <th>11.0</th>\n",
              "      <td>508</td>\n",
              "      <td>O</td>\n",
              "      <td>O</td>\n",
              "      <td>1</td>\n",
              "      <td>HOH</td>\n",
              "      <td>1</td>\n",
              "      <td></td>\n",
              "      <td>0.9469</td>\n",
              "      <td>0.9047</td>\n",
              "      <td>0.6141</td>\n",
              "    </tr>\n",
              "  </tbody>\n",
              "</table>\n",
              "</div>"
            ],
            "text/plain": [
              "      serial name element  resSeq  ... segmentID       X       Y       Z\n",
              "0.0        1    N       N       1  ...            1.1120  0.7000  1.3080\n",
              "1.0        2    H       H       1  ...            1.1180  0.6920  1.4111\n",
              "2.0      166    O       O       4  ...            1.0717  0.6505  1.5617\n",
              "3.0        1    N       N       1  ...            1.1120  0.7000  1.3080\n",
              "4.0        4   H3       H       1  ...            1.1972  0.6809  1.2679\n",
              "5.0      541    O       O       1  ...            1.5159  0.6587  1.2150\n",
              "6.0       13    N       N       2  ...            0.9410  0.9470  1.0930\n",
              "7.0       14    H       H       2  ...            0.8860  0.9990  1.1601\n",
              "8.0      490    O       O       1  ...            0.7875  1.0708  1.3194\n",
              "9.0       32    N       N       3  ...            1.1000  1.1030  0.8020\n",
              "10.0      33    H       H       3  ...            1.0451  1.0401  0.7331\n",
              "11.0     508    O       O       1  ...            0.9469  0.9047  0.6141\n",
              "\n",
              "[12 rows x 10 columns]"
            ]
          },
          "metadata": {
            "tags": []
          },
          "execution_count": 80
        }
      ]
    },
    {
      "cell_type": "code",
      "metadata": {
        "id": "mbmpcteKMlnx"
      },
      "source": [
        "import plotly.express as px\n",
        "import plotly.io as pio"
      ],
      "execution_count": 23,
      "outputs": []
    },
    {
      "cell_type": "code",
      "metadata": {
        "colab": {
          "base_uri": "https://localhost:8080/"
        },
        "id": "zHpnZuEzNDuO",
        "outputId": "e7e0ff8e-2e28-4a18-dbf4-2ac542308205"
      },
      "source": [
        "help(px.scatter_3d)"
      ],
      "execution_count": 25,
      "outputs": [
        {
          "output_type": "stream",
          "text": [
            "Help on function scatter_3d in module plotly.express._chart_types:\n",
            "\n",
            "scatter_3d(data_frame=None, x=None, y=None, z=None, color=None, symbol=None, size=None, text=None, hover_name=None, hover_data=None, custom_data=None, error_x=None, error_x_minus=None, error_y=None, error_y_minus=None, error_z=None, error_z_minus=None, animation_frame=None, animation_group=None, category_orders={}, labels={}, size_max=None, color_discrete_sequence=None, color_discrete_map={}, color_continuous_scale=None, range_color=None, color_continuous_midpoint=None, symbol_sequence=None, symbol_map={}, opacity=None, log_x=False, log_y=False, log_z=False, range_x=None, range_y=None, range_z=None, title=None, template=None, width=None, height=None)\n",
            "        In a 3D scatter plot, each row of `data_frame` is represented by a\n",
            "        symbol mark in 3D space.\n",
            "        \n",
            "    Parameters\n",
            "    ----------\n",
            "    data_frame: DataFrame or array-like or dict\n",
            "        This argument needs to be passed for column names (and not keyword\n",
            "        names) to be used. Array-like and dict are tranformed internally to a\n",
            "        pandas DataFrame. Optional: if missing, a DataFrame gets constructed\n",
            "        under the hood using the other arguments.\n",
            "    x: str or int or Series or array-like\n",
            "        Either a name of a column in `data_frame`, or a pandas Series or\n",
            "        array_like object. Values from this column or array_like are used to\n",
            "        position marks along the x axis in cartesian coordinates. For\n",
            "        horizontal histograms, these values are used as inputs to `histfunc`.\n",
            "    y: str or int or Series or array-like\n",
            "        Either a name of a column in `data_frame`, or a pandas Series or\n",
            "        array_like object. Values from this column or array_like are used to\n",
            "        position marks along the y axis in cartesian coordinates. For vertical\n",
            "        histograms, these values are used as inputs to `histfunc`.\n",
            "    z: str or int or Series or array-like\n",
            "        Either a name of a column in `data_frame`, or a pandas Series or\n",
            "        array_like object. Values from this column or array_like are used to\n",
            "        position marks along the z axis in cartesian coordinates. For\n",
            "        `density_heatmap` and `density_contour` these values are used as the\n",
            "        inputs to `histfunc`.\n",
            "    color: str or int or Series or array-like\n",
            "        Either a name of a column in `data_frame`, or a pandas Series or\n",
            "        array_like object. Values from this column or array_like are used to\n",
            "        assign color to marks.\n",
            "    symbol: str or int or Series or array-like\n",
            "        Either a name of a column in `data_frame`, or a pandas Series or\n",
            "        array_like object. Values from this column or array_like are used to\n",
            "        assign symbols to marks.\n",
            "    size: str or int or Series or array-like\n",
            "        Either a name of a column in `data_frame`, or a pandas Series or\n",
            "        array_like object. Values from this column or array_like are used to\n",
            "        assign mark sizes.\n",
            "    text: str or int or Series or array-like\n",
            "        Either a name of a column in `data_frame`, or a pandas Series or\n",
            "        array_like object. Values from this column or array_like appear in the\n",
            "        figure as text labels.\n",
            "    hover_name: str or int or Series or array-like\n",
            "        Either a name of a column in `data_frame`, or a pandas Series or\n",
            "        array_like object. Values from this column or array_like appear in bold\n",
            "        in the hover tooltip.\n",
            "    hover_data: list of str or int, or Series or array-like\n",
            "        Either names of columns in `data_frame`, or pandas Series, or\n",
            "        array_like objects Values from these columns appear as extra data in\n",
            "        the hover tooltip.\n",
            "    custom_data: list of str or int, or Series or array-like\n",
            "        Either names of columns in `data_frame`, or pandas Series, or\n",
            "        array_like objects Values from these columns are extra data, to be used\n",
            "        in widgets or Dash callbacks for example. This data is not user-visible\n",
            "        but is included in events emitted by the figure (lasso selection etc.)\n",
            "    error_x: str or int or Series or array-like\n",
            "        Either a name of a column in `data_frame`, or a pandas Series or\n",
            "        array_like object. Values from this column or array_like are used to\n",
            "        size x-axis error bars. If `error_x_minus` is `None`, error bars will\n",
            "        be symmetrical, otherwise `error_x` is used for the positive direction\n",
            "        only.\n",
            "    error_x_minus: str or int or Series or array-like\n",
            "        Either a name of a column in `data_frame`, or a pandas Series or\n",
            "        array_like object. Values from this column or array_like are used to\n",
            "        size x-axis error bars in the negative direction. Ignored if `error_x`\n",
            "        is `None`.\n",
            "    error_y: str or int or Series or array-like\n",
            "        Either a name of a column in `data_frame`, or a pandas Series or\n",
            "        array_like object. Values from this column or array_like are used to\n",
            "        size y-axis error bars. If `error_y_minus` is `None`, error bars will\n",
            "        be symmetrical, otherwise `error_y` is used for the positive direction\n",
            "        only.\n",
            "    error_y_minus: str or int or Series or array-like\n",
            "        Either a name of a column in `data_frame`, or a pandas Series or\n",
            "        array_like object. Values from this column or array_like are used to\n",
            "        size y-axis error bars in the negative direction. Ignored if `error_y`\n",
            "        is `None`.\n",
            "    error_z: str or int or Series or array-like\n",
            "        Either a name of a column in `data_frame`, or a pandas Series or\n",
            "        array_like object. Values from this column or array_like are used to\n",
            "        size z-axis error bars. If `error_z_minus` is `None`, error bars will\n",
            "        be symmetrical, otherwise `error_z` is used for the positive direction\n",
            "        only.\n",
            "    error_z_minus: str or int or Series or array-like\n",
            "        Either a name of a column in `data_frame`, or a pandas Series or\n",
            "        array_like object. Values from this column or array_like are used to\n",
            "        size z-axis error bars in the negative direction. Ignored if `error_z`\n",
            "        is `None`.\n",
            "    animation_frame: str or int or Series or array-like\n",
            "        Either a name of a column in `data_frame`, or a pandas Series or\n",
            "        array_like object. Values from this column or array_like are used to\n",
            "        assign marks to animation frames.\n",
            "    animation_group: str or int or Series or array-like\n",
            "        Either a name of a column in `data_frame`, or a pandas Series or\n",
            "        array_like object. Values from this column or array_like are used to\n",
            "        provide object-constancy across animation frames: rows with matching\n",
            "        `animation_group`s will be treated as if they describe the same object\n",
            "        in each frame.\n",
            "    category_orders: dict with str keys and list of str values (default `{}`)\n",
            "        By default, in Python 3.6+, the order of categorical values in axes,\n",
            "        legends and facets depends on the order in which these values are first\n",
            "        encountered in `data_frame` (and no order is guaranteed by default in\n",
            "        Python below 3.6). This parameter is used to force a specific ordering\n",
            "        of values per column. The keys of this dict should correspond to column\n",
            "        names, and the values should be lists of strings corresponding to the\n",
            "        specific display order desired.\n",
            "    labels: dict with str keys and str values (default `{}`)\n",
            "        By default, column names are used in the figure for axis titles, legend\n",
            "        entries and hovers. This parameter allows this to be overridden. The\n",
            "        keys of this dict should correspond to column names, and the values\n",
            "        should correspond to the desired label to be displayed.\n",
            "    size_max: int (default `20`)\n",
            "        Set the maximum mark size when using `size`.\n",
            "    color_discrete_sequence: list of str\n",
            "        Strings should define valid CSS-colors. When `color` is set and the\n",
            "        values in the corresponding column are not numeric, values in that\n",
            "        column are assigned colors by cycling through `color_discrete_sequence`\n",
            "        in the order described in `category_orders`, unless the value of\n",
            "        `color` is a key in `color_discrete_map`. Various useful color\n",
            "        sequences are available in the `plotly_express.colors` submodules,\n",
            "        specifically `plotly_express.colors.qualitative`.\n",
            "    color_discrete_map: dict with str keys and str values (default `{}`)\n",
            "        String values should define valid CSS-colors Used to override\n",
            "        `color_discrete_sequence` to assign a specific colors to marks\n",
            "        corresponding with specific values. Keys in `color_discrete_map` should\n",
            "        be values in the column denoted by `color`.\n",
            "    color_continuous_scale: list of str\n",
            "        Strings should define valid CSS-colors This list is used to build a\n",
            "        continuous color scale when the column denoted by `color` contains\n",
            "        numeric data. Various useful color scales are available in the\n",
            "        `plotly_express.colors` submodules, specifically\n",
            "        `plotly_express.colors.sequential`, `plotly_express.colors.diverging`\n",
            "        and `plotly_express.colors.cyclical`.\n",
            "    range_color: list of two numbers\n",
            "        If provided, overrides auto-scaling on the continuous color scale.\n",
            "    color_continuous_midpoint: number (default `None`)\n",
            "        If set, computes the bounds of the continuous color scale to have the\n",
            "        desired midpoint. Setting this value is recommended when using\n",
            "        `plotly_express.colors.diverging` color scales as the inputs to\n",
            "        `color_continuous_scale`.\n",
            "    symbol_sequence: list of str\n",
            "        Strings should define valid plotly.js symbols. When `symbol` is set,\n",
            "        values in that column are assigned symbols by cycling through\n",
            "        `symbol_sequence` in the order described in `category_orders`, unless\n",
            "        the value of `symbol` is a key in `symbol_map`.\n",
            "    symbol_map: dict with str keys and str values (default `{}`)\n",
            "        String values should define plotly.js symbols Used to override\n",
            "        `symbol_sequence` to assign a specific symbols to marks corresponding\n",
            "        with specific values. Keys in `symbol_map` should be values in the\n",
            "        column denoted by `symbol`.\n",
            "    opacity: float\n",
            "        Value between 0 and 1. Sets the opacity for markers.\n",
            "    log_x: boolean (default `False`)\n",
            "        If `True`, the x-axis is log-scaled in cartesian coordinates.\n",
            "    log_y: boolean (default `False`)\n",
            "        If `True`, the y-axis is log-scaled in cartesian coordinates.\n",
            "    log_z: boolean (default `False`)\n",
            "        If `True`, the z-axis is log-scaled in cartesian coordinates.\n",
            "    range_x: list of two numbers\n",
            "        If provided, overrides auto-scaling on the x-axis in cartesian\n",
            "        coordinates.\n",
            "    range_y: list of two numbers\n",
            "        If provided, overrides auto-scaling on the y-axis in cartesian\n",
            "        coordinates.\n",
            "    range_z: list of two numbers\n",
            "        If provided, overrides auto-scaling on the z-axis in cartesian\n",
            "        coordinates.\n",
            "    title: str\n",
            "        The figure title.\n",
            "    template: or dict or plotly.graph_objects.layout.Template instance\n",
            "        The figure template name or definition.\n",
            "    width: int (default `None`)\n",
            "        The figure width in pixels.\n",
            "    height: int (default `600`)\n",
            "        The figure height in pixels.\n",
            "    \n",
            "    Returns\n",
            "    -------\n",
            "        A `Figure` object.\n",
            "\n"
          ],
          "name": "stdout"
        }
      ]
    },
    {
      "cell_type": "code",
      "metadata": {
        "colab": {
          "base_uri": "https://localhost:8080/",
          "height": 717
        },
        "id": "XjK2PV0rb8qm",
        "outputId": "f6551c32-30ae-4df8-fffe-3c92ef5f9de0"
      },
      "source": [
        "hover_names=[]\n",
        "for i in h_bonds.flatten():\n",
        "  name=str(ALA_wat.top.atom(i).residue.name)\n",
        "  hover_names.append(name)\n",
        "hover_data=[]\n",
        "\n",
        "for i in h_bonds.flatten():\n",
        "  data=str(ALA_wat.top.atom(i).residue.name)+\"\\n \"+\"Atom name : \"+str(ALA_wat.top.atom(i).name)+\"\\n\"+\"Element name  :\"+str(ALA_wat.top.atom(i).element.name)\n",
        "  hover_data.append(data)\n",
        "\n",
        "sizes=[]\n",
        "\n",
        "for i in h_bonds.flatten():\n",
        "  size=ALA_wat.top.atom(i).element.radius\n",
        "  sizes.append(size)\n",
        "\n",
        "color_dis_map={'ALA':'red','HOH':'blue','LEU':'green'};\n",
        "\n",
        "fig=px.scatter_3d(H_BOND_T,x='X',y='Y',z='Z',template='gridon',color='resName',color_discrete_map=color_dis_map,range_x=[0,2],range_y=[0,2],range_z=[0,2],width=700,height=700,hover_name=hover_names,size=sizes)\n",
        "fig.show()\n"
      ],
      "execution_count": 87,
      "outputs": [
        {
          "output_type": "display_data",
          "data": {
            "text/html": [
              "<html>\n",
              "<head><meta charset=\"utf-8\" /></head>\n",
              "<body>\n",
              "    <div>\n",
              "            <script src=\"https://cdnjs.cloudflare.com/ajax/libs/mathjax/2.7.5/MathJax.js?config=TeX-AMS-MML_SVG\"></script><script type=\"text/javascript\">if (window.MathJax) {MathJax.Hub.Config({SVG: {font: \"STIX-Web\"}});}</script>\n",
              "                <script type=\"text/javascript\">window.PlotlyConfig = {MathJaxConfig: 'local'};</script>\n",
              "        <script src=\"https://cdn.plot.ly/plotly-latest.min.js\"></script>    \n",
              "            <div id=\"e78dd7eb-b9d7-4ee8-9c4a-f6d9fd2aadfe\" class=\"plotly-graph-div\" style=\"height:700px; width:700px;\"></div>\n",
              "            <script type=\"text/javascript\">\n",
              "                \n",
              "                    window.PLOTLYENV=window.PLOTLYENV || {};\n",
              "                    \n",
              "                if (document.getElementById(\"e78dd7eb-b9d7-4ee8-9c4a-f6d9fd2aadfe\")) {\n",
              "                    Plotly.newPlot(\n",
              "                        'e78dd7eb-b9d7-4ee8-9c4a-f6d9fd2aadfe',\n",
              "                        [{\"hoverlabel\": {\"namelength\": 0}, \"hovertemplate\": \"<b>%{hovertext}</b><br><br>resName=ALA<br>X=%{x}<br>Y=%{y}<br>Z=%{z}<br>size=%{marker.size}\", \"hovertext\": [\"ALA\", \"ALA\", \"ALA\", \"ALA\", \"ALA\", \"ALA\"], \"legendgroup\": \"resName=ALA\", \"marker\": {\"color\": \"red\", \"size\": [0.155, 0.12, 0.155, 0.12, 0.155, 0.12], \"sizemode\": \"area\", \"sizeref\": 0.0003875, \"symbol\": \"circle\"}, \"mode\": \"markers\", \"name\": \"resName=ALA\", \"scene\": \"scene\", \"showlegend\": true, \"type\": \"scatter3d\", \"x\": [1.1119999885559082, 1.1180000305175781, 1.1119999885559082, 1.1971999406814575, 1.100000023841858, 1.0450999736785889], \"y\": [0.699999988079071, 0.6919999718666077, 0.699999988079071, 0.680899977684021, 1.1030000448226929, 1.0400999784469604], \"z\": [1.3079999685287476, 1.4111000299453735, 1.3079999685287476, 1.267899990081787, 0.8019999861717224, 0.7330999970436096]}, {\"hoverlabel\": {\"namelength\": 0}, \"hovertemplate\": \"<b>%{hovertext}</b><br><br>resName=HOH<br>X=%{x}<br>Y=%{y}<br>Z=%{z}<br>size=%{marker.size}\", \"hovertext\": [\"HOH\", \"HOH\", \"HOH\", \"HOH\"], \"legendgroup\": \"resName=HOH\", \"marker\": {\"color\": \"blue\", \"size\": [0.152, 0.152, 0.152, 0.152], \"sizemode\": \"area\", \"sizeref\": 0.0003875, \"symbol\": \"circle\"}, \"mode\": \"markers\", \"name\": \"resName=HOH\", \"scene\": \"scene\", \"showlegend\": true, \"type\": \"scatter3d\", \"x\": [1.0716999769210815, 1.5159000158309937, 0.7875000238418579, 0.9469000101089478], \"y\": [0.6504999995231628, 0.6586999893188477, 1.0707999467849731, 0.904699981212616], \"z\": [1.5616999864578247, 1.215000033378601, 1.3193999528884888, 0.6140999794006348]}, {\"hoverlabel\": {\"namelength\": 0}, \"hovertemplate\": \"<b>%{hovertext}</b><br><br>resName=LEU<br>X=%{x}<br>Y=%{y}<br>Z=%{z}<br>size=%{marker.size}\", \"hovertext\": [\"LEU\", \"LEU\"], \"legendgroup\": \"resName=LEU\", \"marker\": {\"color\": \"green\", \"size\": [0.155, 0.12], \"sizemode\": \"area\", \"sizeref\": 0.0003875, \"symbol\": \"circle\"}, \"mode\": \"markers\", \"name\": \"resName=LEU\", \"scene\": \"scene\", \"showlegend\": true, \"type\": \"scatter3d\", \"x\": [0.9409999847412109, 0.8859999775886536], \"y\": [0.9470000267028809, 0.9990000128746033], \"z\": [1.093000054359436, 1.160099983215332]}],\n",
              "                        {\"height\": 700, \"legend\": {\"itemsizing\": \"constant\", \"tracegroupgap\": 0}, \"margin\": {\"t\": 60}, \"scene\": {\"domain\": {\"x\": [0.0, 1.0], \"y\": [0.0, 1.0]}, \"xaxis\": {\"range\": [0, 2], \"title\": {\"text\": \"X\"}}, \"yaxis\": {\"range\": [0, 2], \"title\": {\"text\": \"Y\"}}, \"zaxis\": {\"range\": [0, 2], \"title\": {\"text\": \"Z\"}}}, \"template\": {\"data\": {\"pie\": [{\"automargin\": true, \"type\": \"pie\"}]}, \"layout\": {\"xaxis\": {\"showgrid\": true, \"title\": {\"standoff\": 15}}, \"yaxis\": {\"showgrid\": true, \"title\": {\"standoff\": 15}}}}, \"width\": 700},\n",
              "                        {\"responsive\": true}\n",
              "                    ).then(function(){\n",
              "                            \n",
              "var gd = document.getElementById('e78dd7eb-b9d7-4ee8-9c4a-f6d9fd2aadfe');\n",
              "var x = new MutationObserver(function (mutations, observer) {{\n",
              "        var display = window.getComputedStyle(gd).display;\n",
              "        if (!display || display === 'none') {{\n",
              "            console.log([gd, 'removed!']);\n",
              "            Plotly.purge(gd);\n",
              "            observer.disconnect();\n",
              "        }}\n",
              "}});\n",
              "\n",
              "// Listen for the removal of the full notebook cells\n",
              "var notebookContainer = gd.closest('#notebook-container');\n",
              "if (notebookContainer) {{\n",
              "    x.observe(notebookContainer, {childList: true});\n",
              "}}\n",
              "\n",
              "// Listen for the clearing of the current output cell\n",
              "var outputEl = gd.closest('.output');\n",
              "if (outputEl) {{\n",
              "    x.observe(outputEl, {childList: true});\n",
              "}}\n",
              "\n",
              "                        })\n",
              "                };\n",
              "                \n",
              "            </script>\n",
              "        </div>\n",
              "</body>\n",
              "</html>"
            ]
          },
          "metadata": {
            "tags": []
          }
        }
      ]
    },
    {
      "cell_type": "code",
      "metadata": {
        "id": "bxfPft9ndE9_"
      },
      "source": [
        ""
      ],
      "execution_count": null,
      "outputs": []
    },
    {
      "cell_type": "code",
      "metadata": {
        "id": "-t1O8ZKFoGaE"
      },
      "source": [
        ""
      ],
      "execution_count": null,
      "outputs": []
    }
  ]
}